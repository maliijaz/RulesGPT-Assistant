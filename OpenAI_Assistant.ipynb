{
 "cells": [
  {
   "cell_type": "code",
   "execution_count": 49,
   "metadata": {},
   "outputs": [],
   "source": [
    "from openai import OpenAI\n",
    "from sk import my_sk\n",
    "import time\n"
   ]
  },
  {
   "cell_type": "code",
   "execution_count": 50,
   "metadata": {},
   "outputs": [],
   "source": [
    "client  = OpenAI(api_key=my_sk)"
   ]
  },
  {
   "cell_type": "code",
   "execution_count": 51,
   "metadata": {},
   "outputs": [],
   "source": [
    "def wait_for_assitant(thread, run):\n",
    "    t0 = time.time()\n",
    "    while run.status != \"completed\":\n",
    "        run = client.beta.threads.runs.retrieve(thread_id=thread.id, run_id=run.id)\n",
    "        time.sleep(0.25)\n",
    "    dt = time.time() - t0\n",
    "    print(f\"Run completed in {dt:.2f} seconds\")\n",
    "    return run"
   ]
  },
  {
   "cell_type": "code",
   "execution_count": 52,
   "metadata": {},
   "outputs": [
    {
     "name": "stdout",
     "output_type": "stream",
     "text": [
      "completed\n",
      "FileCounts(cancelled=0, completed=2, failed=0, in_progress=0, total=2)\n"
     ]
    }
   ],
   "source": [
    "vector_store = client.beta.vector_stores.create(name=\"Rules\")\n",
    "\n",
    "file_paths = [\"Laws of the Game 2023_24.pdf\", \"16005001.pdf\"]\n",
    "file_streams = [open(path, \"rb\") for path in file_paths]\n",
    "file_batch = client.beta.vector_stores.file_batches.upload_and_poll(\n",
    "    vector_store_id=vector_store.id, files=file_streams\n",
    ")\n",
    "print(file_batch.status)\n",
    "print(file_batch.file_counts)\n"
   ]
  },
  {
   "cell_type": "code",
   "execution_count": 53,
   "metadata": {},
   "outputs": [],
   "source": [
    "instructions_string = \"RulesGPT is a Football rules assistant. \\\n",
    "It provides information about any rules related to football in a concise and easy to understand way. \\\n",
    "If a question is asked about a specific rule in Football, it provides the information so that the rule can be understood completely without any further research.\"\n",
    "\n",
    "assistant = client.beta.assistants.create(\n",
    "    name=\"RulesGPT\",\n",
    "    description=\"Football rules assistant\",\n",
    "    instructions=instructions_string,\n",
    "    tools=[{\"type\": \"file_search\"}],\n",
    "    tool_resources={\"file_search\": {\"vector_store_ids\": [vector_store.id]}},\n",
    "    model = \"gpt-4o\")"
   ]
  },
  {
   "cell_type": "code",
   "execution_count": 54,
   "metadata": {},
   "outputs": [
    {
     "name": "stdout",
     "output_type": "stream",
     "text": [
      "Assistant(id='asst_m524suc4kcC0IIKsyzwvff45', created_at=1716214819, description='Football rules assistant', instructions='RulesGPT is a Football rules assistant. It provides information about any rules related to football in a concise and easy to understand way. If a question is asked about a specific rule in Football, it provides the information so that the rule can be understood completely without any further research.', metadata={}, model='gpt-4o', name='RulesGPT', object='assistant', tools=[FileSearchTool(type='file_search')], response_format='auto', temperature=1.0, tool_resources=ToolResources(code_interpreter=None, file_search=ToolResourcesFileSearch(vector_store_ids=['vs_RaIZ8Kmp17tusB5t1Z7JX56C'])), top_p=1.0)\n"
     ]
    }
   ],
   "source": [
    "print(assistant)"
   ]
  },
  {
   "cell_type": "code",
   "execution_count": 55,
   "metadata": {},
   "outputs": [],
   "source": [
    "thread = client.beta.threads.create()\n",
    "\n",
    "user_message = \"Can a player be offside from a goal kick?\"\n",
    "\n",
    "message = client.beta.threads.messages.create(thread_id=thread.id, role=\"user\", content=user_message)\n",
    "\n",
    "run = client.beta.threads.runs.create(thread_id=thread.id, assistant_id=assistant.id)"
   ]
  },
  {
   "cell_type": "code",
   "execution_count": 56,
   "metadata": {},
   "outputs": [
    {
     "name": "stdout",
     "output_type": "stream",
     "text": [
      "Run completed in 1.72 seconds\n"
     ]
    }
   ],
   "source": [
    "run = wait_for_assitant(thread, run)"
   ]
  },
  {
   "cell_type": "code",
   "execution_count": 28,
   "metadata": {},
   "outputs": [
    {
     "data": {
      "text/plain": [
       "Run(id='run_1ZGNaLc6Q9dP3mt59tYNxI9l', assistant_id='asst_zGlUcin8Wm8QfZEpZXVYfmwZ', cancelled_at=None, completed_at=1716211980, created_at=1716211977, expires_at=None, failed_at=None, incomplete_details=None, instructions='RulesGPT is a Football rules assistant. It provides information about any rules related to football in a concise and easy to understand way. If a question is asked about a specific rule in Football, it provides the information so that the rule can be understood completely without any further research.', last_error=None, max_completion_tokens=None, max_prompt_tokens=None, metadata={}, model='gpt-4o', object='thread.run', required_action=None, response_format='auto', started_at=1716211977, status='completed', thread_id='thread_J7XAPhQGHpQWYj3uIQdAzoki', tool_choice='auto', tools=[], truncation_strategy=TruncationStrategy(type='auto', last_messages=None), usage=Usage(completion_tokens=172, prompt_tokens=90, total_tokens=262), temperature=1.0, top_p=1.0, tool_resources={})"
      ]
     },
     "execution_count": 28,
     "metadata": {},
     "output_type": "execute_result"
    }
   ],
   "source": [
    "run"
   ]
  },
  {
   "cell_type": "code",
   "execution_count": 57,
   "metadata": {},
   "outputs": [
    {
     "name": "stdout",
     "output_type": "stream",
     "text": [
      "According to the Laws of the Game as set out by the International Football Association Board (IFAB), a player cannot be offside from a goal kick. This is explicitly stated in Law 11, which governs offside situations.\n",
      "\n",
      "Here's the relevant section from Law 11:\n",
      "\n",
      ">A player is not in an offside position if he receives the ball directly from a goal kick, a corner kick, or a throw-in.\n",
      "\n",
      "So, if a player receives the ball directly from a goal kick, they are exempt from being called offside, regardless of their position on the field at the time the kick is taken. This rule applies to both offensive and defensive players.\n"
     ]
    }
   ],
   "source": [
    "message = client.beta.threads.messages.list(thread_id=thread.id)\n",
    "print(message.data[0].content[0].text.value)"
   ]
  },
  {
   "cell_type": "code",
   "execution_count": null,
   "metadata": {},
   "outputs": [],
   "source": []
  }
 ],
 "metadata": {
  "kernelspec": {
   "display_name": "Python 3",
   "language": "python",
   "name": "python3"
  },
  "language_info": {
   "codemirror_mode": {
    "name": "ipython",
    "version": 3
   },
   "file_extension": ".py",
   "mimetype": "text/x-python",
   "name": "python",
   "nbconvert_exporter": "python",
   "pygments_lexer": "ipython3",
   "version": "3.11.0"
  }
 },
 "nbformat": 4,
 "nbformat_minor": 2
}
